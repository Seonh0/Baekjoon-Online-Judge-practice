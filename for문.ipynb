{
 "cells": [
  {
   "cell_type": "code",
   "execution_count": null,
   "id": "88320761",
   "metadata": {},
   "outputs": [],
   "source": [
    "a = int(input())\n",
    "for i in range(1,10):\n",
    "    print(f'{a} * {i} = {a*i}')"
   ]
  },
  {
   "cell_type": "code",
   "execution_count": null,
   "id": "1155c047",
   "metadata": {},
   "outputs": [],
   "source": [
    "n = int(input())\n",
    "number = []\n",
    "for i in range(n):\n",
    "    a,b = input().split()\n",
    "    a,b = int(a),int(b)\n",
    "    number.append((a,b))    \n",
    "for i in number:\n",
    "    print(i[0]+i[1])"
   ]
  },
  {
   "cell_type": "code",
   "execution_count": null,
   "id": "12c4b908",
   "metadata": {},
   "outputs": [],
   "source": [
    "n = int(input())\n",
    "sum=0\n",
    "for i in range(1,n+1):\n",
    "    sum += i\n",
    "print(sum)"
   ]
  },
  {
   "cell_type": "code",
   "execution_count": null,
   "id": "c2057b9b",
   "metadata": {},
   "outputs": [],
   "source": [
    "import sys  # sys모듈 읽어들이기\n",
    "\n",
    "t = int(sys.stdin.readline())\n",
    "\n",
    "for _ in range(t):\n",
    "    a,b = map(int, sys.stdin.readline().split())\n",
    "    print(a+b)"
   ]
  },
  {
   "cell_type": "code",
   "execution_count": null,
   "id": "c16b0e3a",
   "metadata": {},
   "outputs": [],
   "source": [
    "n = int(input())\n",
    "for i in range(n,0,-1):\n",
    "    print(i)"
   ]
  },
  {
   "cell_type": "code",
   "execution_count": 4,
   "id": "5430d42b",
   "metadata": {},
   "outputs": [
    {
     "name": "stdout",
     "output_type": "stream",
     "text": [
      "5\n",
      "1 1\n",
      "2 3\n",
      "3 4\n",
      "9 8\n",
      "5 2\n",
      "Case #1: 2\n",
      "Case #2: 5\n",
      "Case #3: 7\n",
      "Case #4: 17\n",
      "Case #5: 7\n"
     ]
    }
   ],
   "source": [
    "n = int(input())\n",
    "s = []\n",
    "for _ in range(n):\n",
    "    a,b = map(int, input().split())\n",
    "    s.append((a,b))\n",
    "for i,j in enumerate(s):\n",
    "    print(f'Case #{i+1}: {j[0]+j[1]}')"
   ]
  },
  {
   "cell_type": "code",
   "execution_count": 5,
   "id": "92b24aca",
   "metadata": {},
   "outputs": [
    {
     "name": "stdout",
     "output_type": "stream",
     "text": [
      "5\n",
      "1 1\n",
      "2 3\n",
      "3 4\n",
      "9 8\n",
      "5 2\n",
      "Case #1: 1 + 1 = 2\n",
      "Case #2: 2 + 3 = 5\n",
      "Case #3: 3 + 4 = 7\n",
      "Case #4: 9 + 8 = 17\n",
      "Case #5: 5 + 2 = 7\n"
     ]
    }
   ],
   "source": [
    "n = int(input())\n",
    "s = []\n",
    "for _ in range(n):\n",
    "    a,b = map(int, input().split())\n",
    "    s.append((a,b))\n",
    "for i,j in enumerate(s):\n",
    "    print(f'Case #{i+1}: {j[0]} + {j[1]} = {j[0]+j[1]}')"
   ]
  },
  {
   "cell_type": "code",
   "execution_count": 9,
   "id": "fb0479b0",
   "metadata": {},
   "outputs": [
    {
     "name": "stdout",
     "output_type": "stream",
     "text": [
      "1\n",
      "*\n"
     ]
    }
   ],
   "source": [
    "n = int(input())\n",
    "for i in range(1,n+1):\n",
    "    print('*'*i)"
   ]
  },
  {
   "cell_type": "code",
   "execution_count": 20,
   "id": "cfc29555",
   "metadata": {},
   "outputs": [
    {
     "name": "stdout",
     "output_type": "stream",
     "text": [
      "5\n",
      "    *\n",
      "   **\n",
      "  ***\n",
      " ****\n",
      "*****\n"
     ]
    }
   ],
   "source": [
    "n = int(input())\n",
    "for i in range(1,n+1):\n",
    "    print(' '*(n-i)+'*'*i)"
   ]
  },
  {
   "cell_type": "code",
   "execution_count": 21,
   "id": "5c8303b6",
   "metadata": {},
   "outputs": [
    {
     "name": "stdout",
     "output_type": "stream",
     "text": [
      "10 5\n",
      "1 10 4 9 2 3 8 5 7 6\n",
      "1 4 2 3 "
     ]
    }
   ],
   "source": [
    "n, x = map(int, input().split())\n",
    "L = list(map(int, input().split()))\n",
    "for i in L:\n",
    "    if i < x:\n",
    "        print(i,end=\" \")"
   ]
  },
  {
   "cell_type": "code",
   "execution_count": null,
   "id": "266a4a62",
   "metadata": {},
   "outputs": [],
   "source": []
  }
 ],
 "metadata": {
  "kernelspec": {
   "display_name": "Python 3",
   "language": "python",
   "name": "python3"
  },
  "language_info": {
   "codemirror_mode": {
    "name": "ipython",
    "version": 3
   },
   "file_extension": ".py",
   "mimetype": "text/x-python",
   "name": "python",
   "nbconvert_exporter": "python",
   "pygments_lexer": "ipython3",
   "version": "3.8.5"
  }
 },
 "nbformat": 4,
 "nbformat_minor": 5
}
